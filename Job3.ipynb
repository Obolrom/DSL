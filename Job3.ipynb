{
  "nbformat": 4,
  "nbformat_minor": 0,
  "metadata": {
    "colab": {
      "name": "Job3.ipynb",
      "provenance": [],
      "authorship_tag": "ABX9TyOrbHcxCXORmejwqVE2rKbn",
      "include_colab_link": true
    },
    "kernelspec": {
      "name": "python3",
      "display_name": "Python 3"
    },
    "language_info": {
      "name": "python"
    }
  },
  "cells": [
    {
      "cell_type": "markdown",
      "metadata": {
        "id": "view-in-github",
        "colab_type": "text"
      },
      "source": [
        "<a href=\"https://colab.research.google.com/github/Obolrom/DSL/blob/main/Job3.ipynb\" target=\"_parent\"><img src=\"https://colab.research.google.com/assets/colab-badge.svg\" alt=\"Open In Colab\"/></a>"
      ]
    },
    {
      "cell_type": "code",
      "execution_count": 1,
      "metadata": {
        "colab": {
          "base_uri": "https://localhost:8080/"
        },
        "id": "IUD1YD6TR4bm",
        "outputId": "2556e279-4f6b-4889-93a0-868a9053f52c"
      },
      "outputs": [
        {
          "output_type": "stream",
          "name": "stdout",
          "text": [
            "First: {(2, 'b')}\n",
            "Follow: {(7, 'g'), (5, 'e'), (1, 'a')}\n"
          ]
        }
      ],
      "source": [
        "\n",
        "VARS = \"vars\"\n",
        "TOKENS = \"toks\"\n",
        "H_VAR = \"hvar\"\n",
        "\n",
        "\n",
        "def first(toks, vars, hvar) -> set:\n",
        "    \"\"\"\n",
        "    :return: set of terminal characters that begin strings\n",
        "    \"\"\"\n",
        "    resultFirst = set()\n",
        "\n",
        "    for rule in vars[hvar]:\n",
        "        if rule[0] in toks:\n",
        "            resultFirst.add(rule[0])\n",
        "        else:\n",
        "            resultFirst = resultFirst.union(first(toks, vars, rule[0]))\n",
        "\n",
        "    return resultFirst\n",
        "\n",
        "\n",
        "def useful_product(vars, hvar) -> list:\n",
        "    useful = []\n",
        "\n",
        "    for terminal, production in vars.items():\n",
        "        for rule in production:\n",
        "            if hvar in rule:\n",
        "                useful.append((terminal, rule))\n",
        "\n",
        "    return useful\n",
        "\n",
        "\n",
        "def follow(toks, vars, hvar) -> set:\n",
        "    \"\"\"\n",
        "    :return: set of terminal characters that follow strings\n",
        "    \"\"\"\n",
        "    useful = useful_product(vars, hvar)\n",
        "    resultFirst = set()\n",
        "\n",
        "    for var in useful:\n",
        "        left, right = var\n",
        "        i = right.index(hvar)\n",
        "        if i + 1 < len(right):\n",
        "            next_symbol = right[i + 1]\n",
        "            if next_symbol in toks:\n",
        "                resultFirst.add(next_symbol)\n",
        "            else:\n",
        "                resultFirst = resultFirst.union(first(toks, vars, next_symbol))\n",
        "        else:\n",
        "            if left != hvar:\n",
        "                resultFirst = resultFirst.union(follow(toks, vars, left))\n",
        "\n",
        "    return resultFirst\n",
        "\n",
        "\n",
        "if __name__ == '__main__':\n",
        "    grammar = {\n",
        "        TOKENS: {\n",
        "            (0, ''),\n",
        "            (1, 'a'),\n",
        "            (2, 'b'),\n",
        "            (3, 'c'),\n",
        "            (4, 'd'),\n",
        "            (5, 'e'),\n",
        "            (6, 'f'),\n",
        "            (7, 'g'),\n",
        "        },\n",
        "        VARS: {\n",
        "            'F': [[(0, ''), 'L', 'P', (6, 'f')]],\n",
        "            'L': [[(2, 'b'), 'T']],\n",
        "            'T': [[(1, 'a'), 'T']],\n",
        "            'P': [['E', 'D']],\n",
        "            'E': [[(5, 'e')], [(7, 'g')], [(1, 'a')]],\n",
        "            'D': [[(4, 'd')], [(7, 'g')]],\n",
        "        },\n",
        "        H_VAR: 'L'\n",
        "    }\n",
        "\n",
        "    print(f\"First: {first(grammar[TOKENS], grammar[VARS], grammar[H_VAR])}\")\n",
        "    print(f\"Follow: {follow(grammar[TOKENS], grammar[VARS], grammar[H_VAR])}\")\n"
      ]
    }
  ]
}