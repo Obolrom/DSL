{
  "nbformat": 4,
  "nbformat_minor": 0,
  "metadata": {
    "colab": {
      "name": "Untitled0.ipynb",
      "provenance": [],
      "authorship_tag": "ABX9TyMeulicDmj5pikcaD70gnLR",
      "include_colab_link": true
    },
    "kernelspec": {
      "name": "python3",
      "display_name": "Python 3"
    },
    "language_info": {
      "name": "python"
    }
  },
  "cells": [
    {
      "cell_type": "markdown",
      "metadata": {
        "id": "view-in-github",
        "colab_type": "text"
      },
      "source": [
        "<a href=\"https://colab.research.google.com/github/Obolrom/DSL/blob/main/task1.ipynb\" target=\"_parent\"><img src=\"https://colab.research.google.com/assets/colab-badge.svg\" alt=\"Open In Colab\"/></a>"
      ]
    },
    {
      "cell_type": "code",
      "metadata": {
        "id": "E_UVs-YyoedE"
      },
      "source": [
        "import os.path as helper\n",
        "\n",
        "# separator symbols\n",
        "# defined as a set for more efficient check of symbols\n",
        "WHITESPACES = {' ', '\\n', '\\t'}\n",
        "# content file name\n",
        "FILE = \"data.txt\"\n",
        "\n",
        "\n",
        "def get_text(data: str) -> str:\n",
        "    \"\"\"\n",
        "    the function reads the plain text from a file if one exists\n",
        "    otherwise returns the input string\n",
        "    \"\"\"\n",
        "\n",
        "    # checks for the presence of a path,\n",
        "    # and also this is a file, since it can be a directory\n",
        "    if helper.exists(data) and helper.isfile(data):\n",
        "        with open(data) as data:\n",
        "            return data.read()\n",
        "    else:\n",
        "        return data\n",
        "\n",
        "\n",
        "def parse(separators: set, input_string: str) -> list:\n",
        "    \"\"\"\"\n",
        "    the function processes input string by one symbol\n",
        "\n",
        "    If a separator is encountered,\n",
        "    then the current token is included in the output token list.\n",
        "    Until delimiters are encountered, a new character is added to the current token\n",
        "    \"\"\"\n",
        "    tokens = []\n",
        "    # current could be a list\n",
        "    # for more economical memory consumption\n",
        "    current_token = \"\"\n",
        "\n",
        "    for symbol in input_string:\n",
        "        if symbol in separators:\n",
        "            # next if statement needed for case if the input string\n",
        "            # contains more than one symbol in a row\n",
        "            # from set of WHITESPACES\n",
        "            if len(current_token) != 0:\n",
        "                tokens.append(current_token)\n",
        "                current_token = \"\"\n",
        "        else:\n",
        "            # works like a buffer into which\n",
        "            # any character not found in WHITESPACES\n",
        "            current_token += symbol\n",
        "\n",
        "    # handles the case, when current token exists\n",
        "    if len(current_token) != 0:\n",
        "        tokens.append(current_token)\n",
        "\n",
        "    return tokens\n",
        "\n",
        "\n",
        "if __name__ == '__main__':\n",
        "    # get plain text\n",
        "    text = get_text(FILE)\n",
        "\n",
        "    correctly_slitted_text = text.split()\n",
        "    output_list = parse(WHITESPACES, text)\n",
        "    print(output_list)\n",
        "\n",
        "    # check for a correctly split text\n",
        "    if text.split() == output_list:\n",
        "        print(\"text parsed correctly\")\n",
        "    else:\n",
        "        print(\"text parsed incorrectly\")\n"
      ],
      "execution_count": null,
      "outputs": []
    },
    {
      "cell_type": "markdown",
      "metadata": {
        "id": "WLX-ZlMEv8hG"
      },
      "source": [
        "['I', 'pledge', 'allegiance', 'to', 'the', 'Flag', 'of', 'the', 'United', 'States', 'of', 'America,', 'and', 'to', 'the', 'Republic', 'for', 'which', 'it', 'stands,', 'one', 'Nation', 'under', 'God,', 'indivisible,', 'with', 'liberty', 'and', 'justice', 'for', 'all.']\n",
        "\n",
        "text parsed correctly"
      ]
    },
    {
      "cell_type": "markdown",
      "metadata": {
        "id": "WLn_BOeav7Fd"
      },
      "source": [
        ""
      ]
    }
  ]
}